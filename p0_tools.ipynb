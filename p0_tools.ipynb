{
 "cells": [
  {
   "cell_type": "markdown",
   "metadata": {},
   "source": [
    "![](imgs/deepsense_header.png)\n",
    "\n",
    "# Machine Learning and Big Data\n",
    "\n",
    "A course by [deepsense.io](http://deepsense.io/).\n",
    "\n",
    "## Part 0: Tools\n",
    "\n",
    "This is a small and gentle introduction to tools we are going to use.\n",
    "\n",
    "![](imgs/ipython_notebook.png)"
   ]
  },
  {
   "cell_type": "markdown",
   "metadata": {},
   "source": [
    "### Tools\n",
    "\n",
    "In this course we will use:\n",
    "\n",
    "* [Python](https://www.python.org/) - a popular programming language\n",
    "* [scikit-learn](http://scikit-learn.org/) - the main machine learning library for Python\n",
    "\n",
    "As interface/IDE, will use:\n",
    "\n",
    "* [IPython Notebook](http://ipython.org/notebook.html) - interactive environment in browser \n",
    "\n",
    "We are going to use a few common Python libraries to \n",
    "\n",
    "* [Pandas](http://pandas.pydata.org/) - tabular data, reading and writing,\n",
    "* [matplotlib](http://matplotlib.org/) - plots,\n",
    "* [seaborn](http://stanford.edu/~mwaskom/software/seaborn/) - beautiful plots,\n",
    "* [NumPy](http://www.numpy.org/) - numerical operations.\n",
    "\n",
    "Don't be afraid if some of these tools are new to you. You are here to learn it. :)\n",
    "As long as you have some very basic knowledge of Python, you should follow. \n"
   ]
  },
  {
   "cell_type": "markdown",
   "metadata": {},
   "source": [
    "### Installation\n",
    "\n",
    "There are many ways to install Python and its libraries. The easiest one is to use the [Anaconda](https://store.continuum.io/cshop/anaconda/) distribution. It installs Python (2.7 or 3.4) along with the most useful libraries for data science.\n",
    "\n",
    "The only other libraries we need to install is `seaborn`, `pyspark` and `findspark`.\n",
    "\n",
    "Anaconda package comes with IPython Notebook."
   ]
  },
  {
   "cell_type": "markdown",
   "metadata": {},
   "source": [
    "### Labs\n",
    "\n",
    "During this workshop we will use IPython Notebook (with necessary libraries) installed on Amazon Web Services. You will be given a link looking like `ec2-54-148-43-50.us-west-2.compute.amazonaws.com`."
   ]
  },
  {
   "cell_type": "markdown",
   "metadata": {},
   "source": [
    "### IPython Notebook\n",
    "\n",
    "IPython Notebook allows a few things, which are \n",
    "\n",
    "* iterative development,\n",
    "* modifying code on feedback,\n",
    "* incorporating plots,\n",
    "* adding notes (including pictures and equations).\n",
    "\n",
    "This environment is frequently used in data science, especially during exploratory data analysis, and during initial machine learning.\n",
    "\n",
    "It's data, it's the unknown. So you need a lot of feedback from it.\n",
    "\n",
    "Oh, and IPython Notebooks are great for learning and presenting. \n",
    "\n",
    "(BTW: This note is in IPython Notebook as well!)"
   ]
  },
  {
   "cell_type": "markdown",
   "metadata": {},
   "source": [
    "## Code\n",
    "\n",
    "Press `[shift]+[enter]` to execute a cell."
   ]
  },
  {
   "cell_type": "code",
   "execution_count": null,
   "metadata": {
    "collapsed": false
   },
   "outputs": [],
   "source": [
    "2 + 5"
   ]
  },
  {
   "cell_type": "code",
   "execution_count": null,
   "metadata": {
    "collapsed": false
   },
   "outputs": [],
   "source": [
    "pets = [\"cat\", \"python\", \"elephant\"]\n",
    "\n",
    "for pet in pets:\n",
    "    print(\"I have a {}. A wonderful animal, indeed!\".format(pet.upper()))"
   ]
  },
  {
   "cell_type": "code",
   "execution_count": 1,
   "metadata": {
    "collapsed": false
   },
   "outputs": [
    {
     "ename": "NameError",
     "evalue": "name 'pets' is not defined",
     "output_type": "error",
     "traceback": [
      "\u001b[1;31m---------------------------------------------------------------------------\u001b[0m",
      "\u001b[1;31mNameError\u001b[0m                                 Traceback (most recent call last)",
      "\u001b[1;32m<ipython-input-1-edab46d49951>\u001b[0m in \u001b[0;36m<module>\u001b[1;34m()\u001b[0m\n\u001b[1;32m----> 1\u001b[1;33m \u001b[1;33m[\u001b[0m\u001b[0mlen\u001b[0m\u001b[1;33m(\u001b[0m\u001b[0mpet\u001b[0m\u001b[1;33m)\u001b[0m \u001b[1;32mfor\u001b[0m \u001b[0mpet\u001b[0m \u001b[1;32min\u001b[0m \u001b[0mpets\u001b[0m\u001b[1;33m]\u001b[0m\u001b[1;33m\u001b[0m\u001b[0m\n\u001b[0m",
      "\u001b[1;31mNameError\u001b[0m: name 'pets' is not defined"
     ]
    }
   ],
   "source": [
    "[len(pet) for pet in pets]"
   ]
  },
  {
   "cell_type": "markdown",
   "metadata": {},
   "source": [
    "## Markdown\n",
    "\n",
    "**Markdown** in a [markup language](https://en.wikipedia.org/wiki/Markup_language) allowing us to write notes.\n",
    "\n",
    "It includes:\n",
    "\n",
    "* lists,\n",
    "* *italics*,\n",
    "* **bold text**,\n",
    "* ~~strikethrough~~,\n",
    "* `monospaced code`,\n",
    "* [links](http://deepsense.io/).\n",
    "\n",
    "\n",
    "Moreover, it has support both for inline $\\LaTeX$ formulas such as $\\sqrt{2} = 1.41\\ldots$ and full line equations:\n",
    "\n",
    "$$\\sum_{k=1}^\\infty \\frac{(-1)^k}{2k-1} = 1 - \\tfrac{1}{3} + \\tfrac{1}{5} + \\ldots = \\frac{\\pi}{4} $$\n",
    "\n",
    "And, of course, code blocks:\n",
    "\n",
    "```\n",
    "var list = [\"a\", \"list\", \"in\", \"JavaScript\", \"ES6\"];\n",
    "list\n",
    "  .map((x) => x.length)\n",
    "  .reduce((x, y) => x + y);\n",
    "\n",
    "```\n"
   ]
  },
  {
   "cell_type": "markdown",
   "metadata": {},
   "source": [
    "## Code autocompletion"
   ]
  },
  {
   "cell_type": "code",
   "execution_count": null,
   "metadata": {
    "collapsed": true
   },
   "outputs": [],
   "source": [
    "from numpy import random"
   ]
  },
  {
   "cell_type": "code",
   "execution_count": null,
   "metadata": {
    "collapsed": false
   },
   "outputs": [],
   "source": [
    "random.ran"
   ]
  },
  {
   "cell_type": "markdown",
   "metadata": {},
   "source": [
    " Start writing `random.r` and press `tab`. "
   ]
  },
  {
   "cell_type": "code",
   "execution_count": null,
   "metadata": {
    "collapsed": true
   },
   "outputs": [],
   "source": [
    "random.randn?"
   ]
  },
  {
   "cell_type": "markdown",
   "metadata": {},
   "source": [
    "## IPython magic\n",
    "\n",
    "Cells starting with `%%something` are special. For example, we can measure thier performance!"
   ]
  },
  {
   "cell_type": "code",
   "execution_count": null,
   "metadata": {
    "collapsed": false
   },
   "outputs": [],
   "source": [
    "%%timeit\n",
    "acc = 0\n",
    "for x in range(1000000):\n",
    "    acc += 1"
   ]
  },
  {
   "cell_type": "code",
   "execution_count": null,
   "metadata": {
    "collapsed": false
   },
   "outputs": [],
   "source": [
    "%%timeit\n",
    "acc = 0\n",
    "for x in range(1000000):\n",
    "    acc += x**5 - 3 * x**2"
   ]
  },
  {
   "cell_type": "markdown",
   "metadata": {},
   "source": [
    "## Shell commands\n",
    "\n",
    "Only in unix-based systems (Linux, Mac OS X)"
   ]
  },
  {
   "cell_type": "code",
   "execution_count": null,
   "metadata": {
    "collapsed": false
   },
   "outputs": [],
   "source": [
    "!ls"
   ]
  },
  {
   "cell_type": "code",
   "execution_count": null,
   "metadata": {
    "collapsed": false
   },
   "outputs": [],
   "source": [
    "files = !ls\n",
    "for f in files:\n",
    "    if f[3] == \"1\":\n",
    "        print(f)"
   ]
  },
  {
   "cell_type": "markdown",
   "metadata": {},
   "source": [
    "## HTML and JavaScript"
   ]
  },
  {
   "cell_type": "code",
   "execution_count": null,
   "metadata": {
    "collapsed": true
   },
   "outputs": [],
   "source": [
    "from IPython.display import Javascript, HTML"
   ]
  },
  {
   "cell_type": "code",
   "execution_count": null,
   "metadata": {
    "collapsed": false
   },
   "outputs": [],
   "source": [
    "Javascript(\"alert('It is JavaScript!')\")"
   ]
  },
  {
   "cell_type": "code",
   "execution_count": null,
   "metadata": {
    "collapsed": false
   },
   "outputs": [],
   "source": [
    "HTML(\"We can <i>generate</i> <code>html</code> code <b>directly</b>!\")"
   ]
  },
  {
   "cell_type": "markdown",
   "metadata": {},
   "source": [
    "## Plots"
   ]
  },
  {
   "cell_type": "code",
   "execution_count": null,
   "metadata": {
    "collapsed": true
   },
   "outputs": [],
   "source": [
    "# make plots appearing in the notebook\n",
    "%matplotlib inline\n",
    "\n",
    "# a plotting library\n",
    "import matplotlib.pyplot as plt\n",
    "\n",
    "# a numerical library\n",
    "import numpy as np"
   ]
  },
  {
   "cell_type": "code",
   "execution_count": null,
   "metadata": {
    "collapsed": false
   },
   "outputs": [],
   "source": [
    "X = np.linspace(-5, 5, 100)  # a vector of hundred equally-spaced points\n",
    "Y = np.sin(X)                # sine of each X\n",
    "plt.plot(X, Y)               # a line plot"
   ]
  },
  {
   "cell_type": "markdown",
   "metadata": {},
   "source": [
    "## Displaying other content"
   ]
  },
  {
   "cell_type": "code",
   "execution_count": null,
   "metadata": {
    "collapsed": true
   },
   "outputs": [],
   "source": [
    "from IPython import display"
   ]
  },
  {
   "cell_type": "code",
   "execution_count": null,
   "metadata": {
    "collapsed": false
   },
   "outputs": [],
   "source": [
    "display.Image(url=\"http://imgs.xkcd.com/comics/python.png\")"
   ]
  },
  {
   "cell_type": "code",
   "execution_count": null,
   "metadata": {
    "collapsed": false
   },
   "outputs": [],
   "source": [
    "display.YouTubeVideo(\"H6dLGQw9yFQ\")"
   ]
  },
  {
   "cell_type": "code",
   "execution_count": null,
   "metadata": {
    "collapsed": false
   },
   "outputs": [],
   "source": [
    "display.Latex(r\"$\\lim_{x \\to 0} (1+x)^{1/x} = e$\")"
   ]
  },
  {
   "cell_type": "markdown",
   "metadata": {},
   "source": [
    "## Interactivity"
   ]
  },
  {
   "cell_type": "code",
   "execution_count": null,
   "metadata": {
    "collapsed": false
   },
   "outputs": [],
   "source": [
    "from IPython.html.widgets import interact"
   ]
  },
  {
   "cell_type": "code",
   "execution_count": null,
   "metadata": {
    "collapsed": false
   },
   "outputs": [],
   "source": [
    "@interact\n",
    "def greeting(text=\"World\"):\n",
    "    print \"Hello {}\".format(text.upper())"
   ]
  },
  {
   "cell_type": "code",
   "execution_count": null,
   "metadata": {
    "collapsed": false
   },
   "outputs": [],
   "source": [
    "@interact\n",
    "def greeting(x=2, y=2):\n",
    "    print \"{} times {} is {}\".format(x, y, x*y)"
   ]
  },
  {
   "cell_type": "markdown",
   "metadata": {
    "collapsed": true
   },
   "source": [
    "## Other notes\n",
    "\n",
    "* Feel free to write your notes in the notebook.\n",
    "* There will be exercises. Ones with a star (★) are additional - i.e. don't feel compelled to d them, do them only is you have extra time."
   ]
  },
  {
   "cell_type": "code",
   "execution_count": null,
   "metadata": {
    "collapsed": true
   },
   "outputs": [],
   "source": []
  }
 ],
 "metadata": {
  "kernelspec": {
   "display_name": "Python 2",
   "language": "python",
   "name": "python2"
  },
  "language_info": {
   "codemirror_mode": {
    "name": "ipython",
    "version": 2
   },
   "file_extension": ".py",
   "mimetype": "text/x-python",
   "name": "python",
   "nbconvert_exporter": "python",
   "pygments_lexer": "ipython2",
   "version": "2.7.12"
  }
 },
 "nbformat": 4,
 "nbformat_minor": 0
}
